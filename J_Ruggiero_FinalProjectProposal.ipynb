{
 "cells": [
  {
   "cell_type": "markdown",
   "metadata": {},
   "source": [
    "# Google Play Store Applications\n",
    "\n",
    "#### Group members:\n",
    "- Omar M. Hussein.\n",
    "- Julian Ruggiero.\n",
    "- Eli Weiss.\n",
    "\n",
    "\n",
    "# Introduction\n",
    "\n",
    "Google Play, formerly Android Market, is a digital distribution service operated and developed by Google. Google play is a place where people enjoy millions of the latest Android applications, games, music, movies, TV, and books all over the world. Anything an individual would need can be found from time trackers for office to games for kids. You simply need to log in to your Google account to start purchasing applications on your mobile device. In this project we are going to closely examine the google play store, mainly focusing on the applications and what makes a successful application. The 2010s were a decade of massive transformation for the tech industry. Advances in technology brought nearly every industry online, and the proliferation of mobile devices and social media fundamentally changed the way consumers and businesses interact. The top companies in the world are technology-based companies even if they work on multiple things at once but all of them have a strong online presence. In this project we consider the number of installs as our key performance indicator and we set a threshold as to define which number of installs represents a successful application and which represent otherwise."
   ]
  },
  {
   "cell_type": "markdown",
   "metadata": {},
   "source": [
    "# Research Question\n",
    "\n",
    "- Will an application have more than 1 Million installs?\n",
    "\n",
    "The reason why this question is worth pursuing is because it will save valuable time, effort and resources for any individuals/groups of people who are interested in developing an android application by knowing beforehand whether or not this application will hit the 1 Million installs or not and therefore creating actionable insights that can help make an educated decision. \n",
    "\n",
    "From a business perspective, crossing one million downloads marks a major milestone as an application maker and provides a company with new advertisement tools that could attract more users."
   ]
  },
  {
   "cell_type": "markdown",
   "metadata": {},
   "source": [
    "<img src=\"Images\\1_million_downloads.jpeg\">"
   ]
  },
  {
   "cell_type": "markdown",
   "metadata": {},
   "source": [
    "# Data\n",
    "\n",
    "The dataset we will be using is located at [Kaggle](https://www.kaggle.com/lava18/google-play-store-apps) and contains around 11,000 records about Google Play Store applications, and it includes 13 features they are divided into numerical and categorical attributes. \n",
    "\n",
    "\n",
    "The response variable for this dataset is not going to be an intrinsic feature but rather a manufactured one based on the column `installs`, which provides a lower bound of the number of installs for a specific application.\n",
    "\n",
    "Here are some examples of the classes within the installs variable to help clarify the nature of the response variable\n",
    "- 10,000+\n",
    "- 500,000+\n",
    "- 1,000,000+.\n",
    "\n",
    "The way we are going to create the response variable is by assigning all the labels that have a lower-bound of installs lower than 1 Million as zero and the higher ones as one. In other words we will create a binary variable in its stead."
   ]
  },
  {
   "cell_type": "markdown",
   "metadata": {},
   "source": [
    "# Approach\n",
    "The following bullet points discuss how we are going to address our work.\n",
    "\n",
    "- We will perform appropriate EDA creating bar charts, histograms, and other graphics to further understand the nature of our data.\n",
    "- Perform any required data preparation work, including any feature engineering adjustments we consider necessary for our work.\n",
    "- Apply our knowledge of feature selection and/or dimensionality reduction techniques to identify explanatory variables for inclusion within our 3 different supervised machine learning classification algorithms.\n",
    "- For our supervised learning models, we will create 3 types:\n",
    "    - KNN\n",
    "    - Random forests\n",
    "    - SVM <br>\n",
    "    \n",
    "  We will split the data into training and testing set and cross-validate each of them to get different metrics (AUC, F1, Recall and Accuracy). Depending on whether we have balance or imbalance data in our response we will select which of these metrics are more appropriate. In this context we believe that we should try to get models with high precision, as we aim to lower the number of false positives, and the reason for that is that it would be costly to predict an app hitting the 1 million mark when that did not happened.  \n",
    "  \n",
    "- Create an ensemble model. To try to reduce the bias and/or variance of our initial models we plan to combine them together to create a strong learner (or ensemble model) that achieves better performance in terms of the metrics mentioned before. We will use the concept of stacking, which considers heterogeneous weak learners, learn them in parallel and combines them by training a meta-model to output a prediction based on the different weak model predictions. This technique mainly tries to produce strong models less biased than their components (even if variance can also be reduced). In this project the weak learners are the KNN, SVM and Random Forests and we decide to learn a meta-model. <br>\n",
    "    \n",
    "- After all the previous steps are accomplished, we would provide conclusions based off our results.\n"
   ]
  },
  {
   "cell_type": "markdown",
   "metadata": {},
   "source": [
    "# Refrences\n",
    "\n",
    "- https://www.visualcapitalist.com/biggest-tech-companies-market-cap-23-years/\n",
    "\n",
    "- https://medium.com/@tavshande/crossing-one-million-downloads-lessons-learned-from-an-indie-app-developer-a8c7df1759d9"
   ]
  }
 ],
 "metadata": {
  "kernelspec": {
   "display_name": "Python 3",
   "language": "python",
   "name": "python3"
  },
  "language_info": {
   "codemirror_mode": {
    "name": "ipython",
    "version": 3
   },
   "file_extension": ".py",
   "mimetype": "text/x-python",
   "name": "python",
   "nbconvert_exporter": "python",
   "pygments_lexer": "ipython3",
   "version": "3.7.3"
  }
 },
 "nbformat": 4,
 "nbformat_minor": 4
}
